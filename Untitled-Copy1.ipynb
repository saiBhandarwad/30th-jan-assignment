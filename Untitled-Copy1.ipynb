{
 "cells": [
  {
   "cell_type": "code",
   "execution_count": null,
   "id": "911fbdfb-4575-45f5-aa03-1cccfd99adcc",
   "metadata": {},
   "outputs": [],
   "source": [
    "# Q1.ANS=>\n",
    "marks=int(input(\"Enter your percentage\"))\n",
    "if marks>100 or marks<0 :\n",
    "    print(\"please enter between 0 to 100\")\n",
    "elif marks>90 :\n",
    "    print(\"A\")\n",
    "elif marks>80 and marks<=90 :\n",
    "    print(\"B\")\n",
    "elif marks>=60 and marks<=80 :\n",
    "    print(\"C\")\n",
    "elif marks<60 :\n",
    "    print(\"D\")\n"
   ]
  },
  {
   "cell_type": "code",
   "execution_count": null,
   "id": "a551c500-5356-4637-be2a-6bf4537140f8",
   "metadata": {},
   "outputs": [],
   "source": [
    "# Q2.ANS=>\n",
    "price=int(input(\"Enter the price of the bike\"))\n",
    "if price > 100000:\n",
    "    print(\"road tax is 15%\")\n",
    "elif price <=100000 and price >50000:\n",
    "    print(\"road tax is 10%\")\n",
    "elif price <= 50000:\n",
    "    print(\"road tax is 5%\")"
   ]
  },
  {
   "cell_type": "code",
   "execution_count": null,
   "id": "b86926c8-a069-476c-a964-0f20445a6777",
   "metadata": {},
   "outputs": [],
   "source": [
    "# Q3.ANS=>\n",
    "city=input(\"enter the city name for know their monuments:\")\n",
    "if city==\"agra\" or city==\"Agra\":\n",
    "    print(\"Monument of city Agra is 'Taj Mahal'\")\n",
    "elif city==\"delhi\" or city==\"Delhi\":\n",
    "    print(\"Monument of city Delhi is 'Red Fort'\")\n",
    "elif city==\"jaipur\" or city==\"Jaipur\":\n",
    "    print(\"Monument of city Jaipur is 'Lal Mahal'\")\n",
    "else:\n",
    "    print(\"enter only three of these Agra ,Jaipur, Delhi\")"
   ]
  },
  {
   "cell_type": "code",
   "execution_count": null,
   "id": "8a163fe9-d9d4-4591-a4b3-ac9f01a9fd2c",
   "metadata": {},
   "outputs": [],
   "source": [
    "# Q4.ANS=>\n",
    "n=int(input(\"enter the number to know how much time it is divided by three until 'number >=10'\"))\n",
    "i=0\n",
    "while n>=10:\n",
    "    n//=3\n",
    "    i+=1\n",
    "print(\"number remain is: \",n ,\" and \", i ,\" times it is divided by 3\")"
   ]
  },
  {
   "cell_type": "code",
   "execution_count": null,
   "id": "47ddc46f-fd79-4058-ada7-1936ed4d6c4e",
   "metadata": {},
   "outputs": [],
   "source": [
    "# Q5.ANS=>\n",
    "'''Python while loop is used to run a block code until a certain condition is met'''\n",
    "# program to display numbers from 1 to 5\n",
    "\n",
    "# initialize the variable\n",
    "i = 1\n",
    "n = 5\n",
    "\n",
    "# while loop from i = 1 to 5\n",
    "while i <= n:\n",
    "    print(i)\n",
    "    i = i + 1\n",
    "    \n",
    "'''\n",
    "i = 1\n",
    "n = 5\tTrue\t1 is printed. i is increased to 2.\n",
    "i = 2\n",
    "\n",
    "n = 5\tTrue\t2 is printed. i is increased to 3.\n",
    "i = 3\n",
    "\n",
    "n = 5\tTrue\t3 is printed. i is increased to 4.\n",
    "i = 4\n",
    "\n",
    "n = 5\tTrue\t4 is printed. i is increased to 5.\n",
    "i = 5\n",
    "\n",
    "n = 5\tTrue\t5 is printed. i is increased to 6.\n",
    "i = 6\n",
    "\n",
    "n = 5\tFalse\tThe loop is terminated.'''"
   ]
  },
  {
   "cell_type": "code",
   "execution_count": null,
   "id": "665ef9e9-298d-4e99-84b3-e476436072d8",
   "metadata": {},
   "outputs": [],
   "source": [
    "# Q6.ANS=>\n",
    "i=1\n",
    "while i<=3:\n",
    "    print(i*\"*\"+\"*\")\n",
    "    for j in range(i):\n",
    "        print(j*\"*\"+\"*\")\n",
    "        for k in range(j):\n",
    "            print(k*\"*\"+\"*\")\n",
    "    i+=1 "
   ]
  },
  {
   "cell_type": "code",
   "execution_count": null,
   "id": "4fc30f7c-283f-44e6-8103-5d0f4e8452ff",
   "metadata": {},
   "outputs": [],
   "source": [
    "# Q7.ANS=>\n",
    "i=10\n",
    "while i>=0:\n",
    "    print(i)\n",
    "    i-=1"
   ]
  },
  {
   "cell_type": "code",
   "execution_count": null,
   "id": "d150a8f4-e86b-4dfe-94da-d3e6d7a7caae",
   "metadata": {},
   "outputs": [],
   "source": [
    "# Q8.ANS=>\n",
    "i=10\n",
    "while i>=0:\n",
    "    print(i)\n",
    "    i-=1"
   ]
  },
  {
   "cell_type": "code",
   "execution_count": null,
   "id": "7f04fc4d-65dc-4a12-8c14-7e1a1d61e748",
   "metadata": {},
   "outputs": [],
   "source": []
  }
 ],
 "metadata": {
  "kernelspec": {
   "display_name": "Python 3 (ipykernel)",
   "language": "python",
   "name": "python3"
  },
  "language_info": {
   "codemirror_mode": {
    "name": "ipython",
    "version": 3
   },
   "file_extension": ".py",
   "mimetype": "text/x-python",
   "name": "python",
   "nbconvert_exporter": "python",
   "pygments_lexer": "ipython3",
   "version": "3.10.8"
  }
 },
 "nbformat": 4,
 "nbformat_minor": 5
}
